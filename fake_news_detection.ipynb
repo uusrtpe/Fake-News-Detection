{
 "cells": [
  {
   "cell_type": "code",
   "execution_count": null,
   "metadata": {},
   "outputs": [],
   "source": []
  },
  {
   "cell_type": "code",
   "execution_count": 3,
   "metadata": {},
   "outputs": [
    {
     "name": "stdout",
     "output_type": "stream",
     "text": [
      "/Users/ummuhansaritepe/Desktop/Fake-news-detection/.venv/bin/python\n"
     ]
    }
   ],
   "source": [
    "import sys\n",
    "print(sys.executable)\n"
   ]
  },
  {
   "cell_type": "code",
   "execution_count": 5,
   "metadata": {},
   "outputs": [
    {
     "data": {
      "text/html": [
       "<div>\n",
       "<style scoped>\n",
       "    .dataframe tbody tr th:only-of-type {\n",
       "        vertical-align: middle;\n",
       "    }\n",
       "\n",
       "    .dataframe tbody tr th {\n",
       "        vertical-align: top;\n",
       "    }\n",
       "\n",
       "    .dataframe thead th {\n",
       "        text-align: right;\n",
       "    }\n",
       "</style>\n",
       "<table border=\"1\" class=\"dataframe\">\n",
       "  <thead>\n",
       "    <tr style=\"text-align: right;\">\n",
       "      <th></th>\n",
       "      <th>title</th>\n",
       "      <th>text</th>\n",
       "      <th>subject</th>\n",
       "      <th>date</th>\n",
       "      <th>label</th>\n",
       "    </tr>\n",
       "  </thead>\n",
       "  <tbody>\n",
       "    <tr>\n",
       "      <th>0</th>\n",
       "      <td>Ben Stein Calls Out 9th Circuit Court: Committ...</td>\n",
       "      <td>21st Century Wire says Ben Stein, reputable pr...</td>\n",
       "      <td>US_News</td>\n",
       "      <td>February 13, 2017</td>\n",
       "      <td>fake</td>\n",
       "    </tr>\n",
       "    <tr>\n",
       "      <th>1</th>\n",
       "      <td>Trump drops Steve Bannon from National Securit...</td>\n",
       "      <td>WASHINGTON (Reuters) - U.S. President Donald T...</td>\n",
       "      <td>politicsNews</td>\n",
       "      <td>April 5, 2017</td>\n",
       "      <td>real</td>\n",
       "    </tr>\n",
       "    <tr>\n",
       "      <th>2</th>\n",
       "      <td>Puerto Rico expects U.S. to lift Jones Act shi...</td>\n",
       "      <td>(Reuters) - Puerto Rico Governor Ricardo Rosse...</td>\n",
       "      <td>politicsNews</td>\n",
       "      <td>September 27, 2017</td>\n",
       "      <td>real</td>\n",
       "    </tr>\n",
       "    <tr>\n",
       "      <th>3</th>\n",
       "      <td>OOPS: Trump Just Accidentally Confirmed He Le...</td>\n",
       "      <td>On Monday, Donald Trump once again embarrassed...</td>\n",
       "      <td>News</td>\n",
       "      <td>May 22, 2017</td>\n",
       "      <td>fake</td>\n",
       "    </tr>\n",
       "    <tr>\n",
       "      <th>4</th>\n",
       "      <td>Donald Trump heads for Scotland to reopen a go...</td>\n",
       "      <td>GLASGOW, Scotland (Reuters) - Most U.S. presid...</td>\n",
       "      <td>politicsNews</td>\n",
       "      <td>June 24, 2016</td>\n",
       "      <td>real</td>\n",
       "    </tr>\n",
       "  </tbody>\n",
       "</table>\n",
       "</div>"
      ],
      "text/plain": [
       "                                               title  \\\n",
       "0  Ben Stein Calls Out 9th Circuit Court: Committ...   \n",
       "1  Trump drops Steve Bannon from National Securit...   \n",
       "2  Puerto Rico expects U.S. to lift Jones Act shi...   \n",
       "3   OOPS: Trump Just Accidentally Confirmed He Le...   \n",
       "4  Donald Trump heads for Scotland to reopen a go...   \n",
       "\n",
       "                                                text       subject  \\\n",
       "0  21st Century Wire says Ben Stein, reputable pr...       US_News   \n",
       "1  WASHINGTON (Reuters) - U.S. President Donald T...  politicsNews   \n",
       "2  (Reuters) - Puerto Rico Governor Ricardo Rosse...  politicsNews   \n",
       "3  On Monday, Donald Trump once again embarrassed...          News   \n",
       "4  GLASGOW, Scotland (Reuters) - Most U.S. presid...  politicsNews   \n",
       "\n",
       "                  date label  \n",
       "0    February 13, 2017  fake  \n",
       "1       April 5, 2017   real  \n",
       "2  September 27, 2017   real  \n",
       "3         May 22, 2017  fake  \n",
       "4       June 24, 2016   real  "
      ]
     },
     "metadata": {},
     "output_type": "display_data"
    },
    {
     "name": "stdout",
     "output_type": "stream",
     "text": [
      "(44898, 5)\n",
      "label\n",
      "fake    23481\n",
      "real    21417\n",
      "Name: count, dtype: int64\n"
     ]
    }
   ],
   "source": [
    "import pandas as pd\n",
    "import os\n",
    "\n",
    "# 1) Data Path\n",
    "fake_path = os.path.join(\"data\", \"Fake.csv\")\n",
    "true_path = os.path.join(\"data\", \"True.csv\")\n",
    "\n",
    "# 2) CSV´s\n",
    "df_fake = pd.read_csv(fake_path)\n",
    "df_true = pd.read_csv(true_path)\n",
    "\n",
    "# 3) Label block\n",
    "df_fake[\"label\"] = \"fake\"\n",
    "df_true[\"label\"] = \"real\"\n",
    "\n",
    "# 4) Mixed\n",
    "df = pd.concat([df_fake, df_true], ignore_index=True)\n",
    "\n",
    "# 5) Index:0 and Comparison\n",
    "df = df.sample(frac=1, random_state=42).reset_index(drop=True)\n",
    "\n",
    "# 6) Mix and Example\n",
    "display(df.head())\n",
    "print(df.shape)\n",
    "print(df[\"label\"].value_counts())\n"
   ]
  },
  {
   "cell_type": "code",
   "execution_count": 7,
   "metadata": {},
   "outputs": [
    {
     "name": "stdout",
     "output_type": "stream",
     "text": [
      "=== Numeric Summary ===\n",
      "        text_length\n",
      "count  44898.000000\n",
      "mean    2469.109693\n",
      "std     2171.617091\n",
      "min        1.000000\n",
      "25%     1234.000000\n",
      "50%     2186.000000\n",
      "75%     3105.000000\n",
      "max    51794.000000 \n",
      "\n",
      "=== Categorical Summary ===\n",
      "                                                    title   text  \\\n",
      "count                                               44898  44898   \n",
      "unique                                              38729  38646   \n",
      "top     Factbox: Trump fills top jobs for his administ...          \n",
      "freq                                                   14    627   \n",
      "\n",
      "             subject                date  label  \n",
      "count          44898               44898  44898  \n",
      "unique             8                2397      2  \n",
      "top     politicsNews  December 20, 2017    fake  \n",
      "freq           11272                 182  23481   \n",
      "\n",
      "=== Missing Values ===\n",
      "title          0\n",
      "text           0\n",
      "subject        0\n",
      "date           0\n",
      "label          0\n",
      "text_length    0\n",
      "dtype: int64 \n",
      "\n"
     ]
    },
    {
     "data": {
      "image/png": "[encoded data removed]",
      "text/plain": [
       "<Figure size 600x400 with 1 Axes>"
      ]
     },
     "metadata": {},
     "output_type": "display_data"
    },
    {
     "name": "stdout",
     "output_type": "stream",
     "text": [
      "Percentage Distribution:\n",
      " label\n",
      "fake    52.3\n",
      "real    47.7\n",
      "Name: proportion, dtype: float64 \n",
      "\n",
      "=== Text Length Statistics ===\n",
      "count    44898.000000\n",
      "mean      2469.109693\n",
      "std       2171.617091\n",
      "min          1.000000\n",
      "25%       1234.000000\n",
      "50%       2186.000000\n",
      "75%       3105.000000\n",
      "max      51794.000000\n",
      "Name: text_length, dtype: float64 \n",
      "\n"
     ]
    },
    {
     "data": {
      "image/png": "[encoded data removed]",
      "text/plain": [
       "<Figure size 600x400 with 1 Axes>"
      ]
     },
     "metadata": {},
     "output_type": "display_data"
    }
   ],
   "source": [
    "import matplotlib.pyplot as plt\n",
    "import seaborn as sns\n",
    "\n",
    "# 1) General statistical summary (numeric & categorical columns)\n",
    "print(\"=== Numeric Summary ===\")\n",
    "print(df.describe(), \"\\n\")\n",
    "print(\"=== Categorical Summary ===\")\n",
    "print(df.describe(include='object'), \"\\n\")\n",
    "\n",
    "# 2) Missing value counts\n",
    "print(\"=== Missing Values ===\")\n",
    "print(df.isnull().sum(), \"\\n\")\n",
    "\n",
    "# 3) Class distribution\n",
    "plt.figure(figsize=(6,4))\n",
    "sns.countplot(x='label', data=df)\n",
    "plt.title('Class Distribution')\n",
    "plt.show()\n",
    "\n",
    "print(\"Percentage Distribution:\\n\", (df['label'].value_counts(normalize=True)*100).round(2), \"\\n\")\n",
    "\n",
    "# 4) Text length analysis\n",
    "df['text_length'] = df['text'].apply(len)\n",
    "print(\"=== Text Length Statistics ===\")\n",
    "print(df['text_length'].describe(), \"\\n\")\n",
    "\n",
    "plt.figure(figsize=(6,4))\n",
    "df['text_length'].hist(bins=50)\n",
    "plt.title('Distribution of Text Lengths')\n",
    "plt.xlabel('Number of Characters')\n",
    "plt.ylabel('Frequency')\n",
    "plt.show()\n"
   ]
  },
  {
   "cell_type": "code",
   "execution_count": 9,
   "metadata": {},
   "outputs": [
    {
     "name": "stdout",
     "output_type": "stream",
     "text": [
      "Train samples: 35918, Test samples: 8980\n"
     ]
    }
   ],
   "source": [
    "from sklearn.model_selection import train_test_split\n",
    "\n",
    "# 1) Özellik ve hedefi seç\n",
    "X = df['clean_text'] if 'clean_text' in df else df['text']\n",
    "y = df['label']\n",
    "\n",
    "# 2) Eğitim/test ayır\n",
    "X_train, X_test, y_train, y_test = train_test_split(\n",
    "    X, y,\n",
    "    test_size=0.2,\n",
    "    random_state=42,\n",
    "    stratify=y\n",
    ")\n",
    "\n",
    "# 3) Kontrol et\n",
    "print(f\"Train samples: {X_train.shape[0]}, Test samples: {X_test.shape[0]}\")\n"
   ]
  },
  {
   "cell_type": "code",
   "execution_count": 11,
   "metadata": {},
   "outputs": [
    {
     "name": "stdout",
     "output_type": "stream",
     "text": [
      "Training completed.\n",
      "Test Accuracy: 0.9886\n",
      "\n",
      "Classification Report:\n",
      "               precision    recall  f1-score   support\n",
      "\n",
      "        fake       0.99      0.99      0.99      4696\n",
      "        real       0.99      0.99      0.99      4284\n",
      "\n",
      "    accuracy                           0.99      8980\n",
      "   macro avg       0.99      0.99      0.99      8980\n",
      "weighted avg       0.99      0.99      0.99      8980\n",
      "\n",
      "\n",
      "Confusion Matrix:\n",
      " [[4637   59]\n",
      " [  43 4241]]\n"
     ]
    }
   ],
   "source": [
    "from sklearn.feature_extraction.text import TfidfVectorizer\n",
    "from sklearn.linear_model import LogisticRegression\n",
    "from sklearn.pipeline import Pipeline\n",
    "from sklearn.metrics import accuracy_score, classification_report, confusion_matrix\n",
    "\n",
    "# 1) Create a pipeline with TF-IDF vectorization and Logistic Regression classifier\n",
    "pipeline = Pipeline([\n",
    "    ('tfidf', TfidfVectorizer(\n",
    "        max_df=0.9,        # ignore terms that appear in more than 90% of documents\n",
    "        min_df=5,          # ignore terms that appear in fewer than 5 documents\n",
    "        ngram_range=(1,2)  # include unigrams and bigrams\n",
    "    )),\n",
    "    ('clf', LogisticRegression(\n",
    "        solver='liblinear', random_state=42\n",
    "    ))\n",
    "])\n",
    "\n",
    "# 2) Train the model on the training set\n",
    "pipeline.fit(X_train, y_train)\n",
    "print(\"Training completed.\")\n",
    "\n",
    "# 3) Make predictions on the test set and compute accuracy\n",
    "y_pred = pipeline.predict(X_test)\n",
    "print(\"Test Accuracy:\", round(accuracy_score(y_test, y_pred), 4))\n",
    "\n",
    "# 4) Print a detailed classification report\n",
    "print(\"\\nClassification Report:\\n\", classification_report(y_test, y_pred))\n",
    "\n",
    "# 5) Compute and display the confusion matrix\n",
    "cm = confusion_matrix(y_test, y_pred)\n",
    "print(\"\\nConfusion Matrix:\\n\", cm)\n"
   ]
  },
  {
   "cell_type": "code",
   "execution_count": 16,
   "metadata": {},
   "outputs": [
    {
     "name": "stdout",
     "output_type": "stream",
     "text": [
      "Fitting 3 folds for each of 72 candidates, totalling 216 fits\n",
      "Best params: {'clf__C': 10, 'tfidf__max_df': 0.9, 'tfidf__min_df': 7, 'tfidf__ngram_range': (1, 2)}\n",
      "Best CV f1-weighted: 0.9926\n",
      "\n",
      "Test Accuracy (best model): 0.9949\n",
      "\n",
      "Classification Report:\n",
      "               precision    recall  f1-score   support\n",
      "\n",
      "        fake       0.99      1.00      1.00      4696\n",
      "        real       1.00      0.99      0.99      4284\n",
      "\n",
      "    accuracy                           0.99      8980\n",
      "   macro avg       0.99      0.99      0.99      8980\n",
      "weighted avg       0.99      0.99      0.99      8980\n",
      "\n",
      "\n",
      "Confusion Matrix:\n",
      " [[4675   21]\n",
      " [  25 4259]]\n"
     ]
    }
   ],
   "source": [
    "from sklearn.model_selection import GridSearchCV\n",
    "\n",
    "# 1) Define a parameter grid for TF-IDF and Logistic Regression\n",
    "param_grid = {\n",
    "    'tfidf__max_df':      [0.8, 0.9, 1.0],\n",
    "    'tfidf__min_df':      [3, 5, 7],\n",
    "    'tfidf__ngram_range': [(1,1), (1,2)],\n",
    "    'clf__C':             [0.01, 0.1, 1, 10]\n",
    "}\n",
    "\n",
    "# 2) Wrap your existing pipeline in GridSearchCV\n",
    "grid_search = GridSearchCV(\n",
    "    pipeline, \n",
    "    param_grid, \n",
    "    cv=3, \n",
    "    scoring='f1_weighted',\n",
    "    n_jobs=-1,\n",
    "    verbose=1\n",
    ")\n",
    "\n",
    "# 3) Fit the grid search\n",
    "grid_search.fit(X_train, y_train)\n",
    "\n",
    "# 4) Print best params & CV score\n",
    "print(\"Best params:\", grid_search.best_params_)\n",
    "print(\"Best CV f1-weighted:\", round(grid_search.best_score_, 4))\n",
    "\n",
    "# 5) Evaluate on test set\n",
    "best_model = grid_search.best_estimator_\n",
    "y_pred_best = best_model.predict(X_test)\n",
    "print(\"\\nTest Accuracy (best model):\", round(accuracy_score(y_test, y_pred_best), 4))\n",
    "print(\"\\nClassification Report:\\n\", classification_report(y_test, y_pred_best))\n",
    "print(\"\\nConfusion Matrix:\\n\", confusion_matrix(y_test, y_pred_best))\n"
   ]
  },
  {
   "cell_type": "code",
   "execution_count": 17,
   "metadata": {},
   "outputs": [
    {
     "data": {
      "image/png": "[encoded data removed]",
      "text/plain": [
       "<Figure size 600x400 with 1 Axes>"
      ]
     },
     "metadata": {},
     "output_type": "display_data"
    }
   ],
   "source": [
    "from sklearn.model_selection import learning_curve\n",
    "import numpy as np\n",
    "import matplotlib.pyplot as plt\n",
    "\n",
    "# 1) Eğitim boyutlarını ve skorları alıyoruz\n",
    "train_sizes, train_scores, val_scores = learning_curve(\n",
    "    pipeline, X_train, y_train,\n",
    "    train_sizes=np.linspace(0.1, 1.0, 10),\n",
    "    cv=3,\n",
    "    scoring='accuracy',\n",
    "    n_jobs=-1\n",
    ")\n",
    "\n",
    "# 2) Ortalama + std’yi hesapla\n",
    "train_mean = np.mean(train_scores, axis=1)\n",
    "train_std  = np.std(train_scores, axis=1)\n",
    "val_mean   = np.mean(val_scores, axis=1)\n",
    "val_std    = np.std(val_scores, axis=1)\n",
    "\n",
    "# 3) Görselleştir\n",
    "plt.figure(figsize=(6,4))\n",
    "plt.plot(train_sizes, train_mean,  label='Training score')\n",
    "plt.fill_between(train_sizes, train_mean-train_std, train_mean+train_std, alpha=0.2)\n",
    "plt.plot(train_sizes, val_mean,    label='Validation score')\n",
    "plt.fill_between(train_sizes, val_mean-val_std, val_mean+val_std, alpha=0.2)\n",
    "plt.title('Learning Curve')\n",
    "plt.xlabel('Training set size')\n",
    "plt.ylabel('Accuracy')\n",
    "plt.legend()\n",
    "plt.show()\n"
   ]
  },
  {
   "cell_type": "code",
   "execution_count": 18,
   "metadata": {},
   "outputs": [
    {
     "data": {
      "text/html": [
       "<div>\n",
       "<style scoped>\n",
       "    .dataframe tbody tr th:only-of-type {\n",
       "        vertical-align: middle;\n",
       "    }\n",
       "\n",
       "    .dataframe tbody tr th {\n",
       "        vertical-align: top;\n",
       "    }\n",
       "\n",
       "    .dataframe thead th {\n",
       "        text-align: right;\n",
       "    }\n",
       "</style>\n",
       "<table border=\"1\" class=\"dataframe\">\n",
       "  <thead>\n",
       "    <tr style=\"text-align: right;\">\n",
       "      <th></th>\n",
       "      <th>text</th>\n",
       "      <th>true</th>\n",
       "      <th>pred</th>\n",
       "    </tr>\n",
       "  </thead>\n",
       "  <tbody>\n",
       "    <tr>\n",
       "      <th>18481</th>\n",
       "      <td>MELBOURNE (Reuters) - Australian Prime Ministe...</td>\n",
       "      <td>real</td>\n",
       "      <td>real</td>\n",
       "    </tr>\n",
       "    <tr>\n",
       "      <th>13036</th>\n",
       "      <td>BUDAPEST (Reuters) - Hungary s right-wing Prim...</td>\n",
       "      <td>real</td>\n",
       "      <td>real</td>\n",
       "    </tr>\n",
       "    <tr>\n",
       "      <th>1227</th>\n",
       "      <td>MIRANSHAH, Pakistan (Reuters) - A bomb rigged ...</td>\n",
       "      <td>real</td>\n",
       "      <td>real</td>\n",
       "    </tr>\n",
       "    <tr>\n",
       "      <th>36782</th>\n",
       "      <td>A number of European politicians, including J...</td>\n",
       "      <td>fake</td>\n",
       "      <td>real</td>\n",
       "    </tr>\n",
       "    <tr>\n",
       "      <th>12287</th>\n",
       "      <td>In what amounts to an 11th hour  gift  by the ...</td>\n",
       "      <td>fake</td>\n",
       "      <td>real</td>\n",
       "    </tr>\n",
       "    <tr>\n",
       "      <th>33099</th>\n",
       "      <td>Wow! Republicans had a chance to stand up to t...</td>\n",
       "      <td>fake</td>\n",
       "      <td>real</td>\n",
       "    </tr>\n",
       "  </tbody>\n",
       "</table>\n",
       "</div>"
      ],
      "text/plain": [
       "                                                    text  true  pred\n",
       "18481  MELBOURNE (Reuters) - Australian Prime Ministe...  real  real\n",
       "13036  BUDAPEST (Reuters) - Hungary s right-wing Prim...  real  real\n",
       "1227   MIRANSHAH, Pakistan (Reuters) - A bomb rigged ...  real  real\n",
       "36782   A number of European politicians, including J...  fake  real\n",
       "12287  In what amounts to an 11th hour  gift  by the ...  fake  real\n",
       "33099  Wow! Republicans had a chance to stand up to t...  fake  real"
      ]
     },
     "metadata": {},
     "output_type": "display_data"
    }
   ],
   "source": [
    "import pandas as pd\n",
    "import numpy as np\n",
    "\n",
    "# 1) Test setini bir DataFrame’e al\n",
    "df_test = pd.DataFrame({\n",
    "    'text':   X_test,\n",
    "    'true':   y_test,\n",
    "    'pred':   pipeline.predict(X_test)\n",
    "})\n",
    "\n",
    "# 2) “doğru” ve “yanlış” alt kümeleri\n",
    "correct = df_test[df_test['true']==df_test['pred']]\n",
    "wrong   = df_test[df_test['true']!=df_test['pred']]\n",
    "\n",
    "# 3) Rastgele seç 3’er örnek\n",
    "sample_correct = correct.sample(3, random_state=42)\n",
    "sample_wrong   = wrong.sample(3, random_state=42)\n",
    "\n",
    "# 4) Birleştirip göster\n",
    "display(pd.concat([sample_correct, sample_wrong]))\n"
   ]
  },
  {
   "cell_type": "code",
   "execution_count": 20,
   "metadata": {},
   "outputs": [
    {
     "name": "stdout",
     "output_type": "stream",
     "text": [
      "Model Recorded: model.pkl\n"
     ]
    }
   ],
   "source": [
    "import pickle\n",
    "\n",
    "with open(\"model.pkl\", \"wb\") as f:\n",
    "    pickle.dump(pipeline, f)\n",
    "print(\"Model Recorded: model.pkl\")\n"
   ]
  }
 ],
 "metadata": {
  "kernelspec": {
   "display_name": ".venv",
   "language": "python",
   "name": "python3"
  },
  "language_info": {
   "codemirror_mode": {
    "name": "ipython",
    "version": 3
   },
   "file_extension": ".py",
   "mimetype": "text/x-python",
   "name": "python",
   "nbconvert_exporter": "python",
   "pygments_lexer": "ipython3",
   "version": "3.12.4"
  }
 },
 "nbformat": 4,
 "nbformat_minor": 2
}
